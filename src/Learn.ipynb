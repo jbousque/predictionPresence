{
 "cells": [
  {
   "cell_type": "code",
   "execution_count": 18,
   "metadata": {},
   "outputs": [],
   "source": [
    "import os\n",
    "import warnings\n",
    "import logging\n",
    "\n",
    "import numpy as np\n",
    "import pandas as pd\n",
    "import matplotlib.pyplot as plt\n",
    "import sklearn\n",
    "\n",
    "from sklearn.ensemble import RandomForestClassifier\n",
    "from sklearn.model_selection import cross_val_score\n",
    "from sklearn.model_selection import GridSearchCV\n",
    "from sklearn.svm import SVC\n",
    "from sklearn.utils import resample\n",
    "\n",
    "import config\n",
    "\n",
    "np.random.seed(42)\n",
    "logger = logging.getLogger()\n",
    "warnings.filterwarnings(\"ignore\")"
   ]
  },
  {
   "cell_type": "code",
   "execution_count": 91,
   "metadata": {},
   "outputs": [],
   "source": [
    "# todo \"Avg_IPUlen_Begin\", \"Avg_IPUlen_Middle\", \"Avg_IPUlen_End\" removed because of wrong values\n",
    "subject_features = (\"Expert\", \"Head_Entropy_Start\", \"Head_Entropy_Mid\", \"Head_Entropy_End\", \"Avg_HandEntropy_Begin\",\n",
    "             \"Avg_HandEntropy_Mid\", \"Avg_HandEntropy_End\", \"Avg_SentenceLength_Begin\", \"Avg_SentenceLength_Mid\",\n",
    "             \"Avg_SentenceLength_End\",  \"Ratio1_Begin\", \"Ratio1_Mid\", \"Ratio1_End\", \"Ratio2_Begin\", \"Ratio2_Mid\", \n",
    "                    \"Ratio2_End\", \"Duration\")\n",
    "\n",
    "def randomForest_gridsearch(dataFile, modelTarget, param_grid, features, upsample=False):\n",
    "    logger.info(\"randomForest_gridsearch(dataFile={df}, modelTarget={mt})\".format(df=dataFile, mt=modelTarget))\n",
    "\n",
    "    samples = pd.read_excel(dataFile)\n",
    "    samples = samples.rename(index=str,\n",
    "                             columns={\"Presence Class\": \"PresenceClass\", \"Co-presence Class\": \"CopresenceClass\"})\n",
    "\n",
    "    names = features\n",
    "\n",
    "    samples_split = []\n",
    "    if (modelTarget == \"presence\"):\n",
    "        samples_split.append(samples[samples.PresenceClass == 1])\n",
    "        samples_split.append(samples[samples.PresenceClass == 2])\n",
    "        samples_split.append(samples[samples.PresenceClass == 3])\n",
    "\n",
    "    elif (modelTarget == \"copresence\"):\n",
    "        samples_split.append(samples[samples.CopresenceClass == 1])\n",
    "        samples_split.append(samples[samples.CopresenceClass == 2])\n",
    "        samples_split.append(samples[samples.CopresenceClass == 3])\n",
    "    else:\n",
    "        sys.exit(\"Invalid input. Please pick between presence and copresence\")\n",
    "\n",
    "    maxClassSize = max(samples_split[0].shape[0], samples_split[1].shape[0], samples_split[2].shape[0])\n",
    "\n",
    "    if upsample:\n",
    "        upsampled = []\n",
    "        # todo upsample with SMOTE algorithm ? https://imbalanced-learn.readthedocs.io/en/stable/generated/imblearn.over_sampling.SMOTE.html\n",
    "        for idx, samples in enumerate(samples_split):\n",
    "            if (samples.shape[0] == maxClassSize):\n",
    "                upsampled.append(samples)\n",
    "            else:\n",
    "                logger.debug(\"resample: adding \" + str(maxClassSize - samples.shape[0]) + \" samples to class \" + str(\n",
    "                    idx + 1) + \" to reach \" + str(maxClassSize))\n",
    "                upsampled.append(resample(samples, replace=True, n_samples=maxClassSize, random_state=None))\n",
    "\n",
    "        balanced_set = pd.concat(upsampled)\n",
    "        X = np.nan_to_num(balanced_set.as_matrix(names))\n",
    "\n",
    "        if (modelTarget == \"presence\"):\n",
    "            y = np.array(balanced_set[\"PresenceClass\"].tolist())\n",
    "\n",
    "        else:\n",
    "            y = np.array(balanced_set[\"CopresenceClass\"].tolist())\n",
    "\n",
    "    else:\n",
    "\n",
    "        X = np.nan_to_num(samples[list(names)])\n",
    "        if modelTarget == \"presence\":\n",
    "            y = samples.PresenceClass\n",
    "        else:\n",
    "            y = samples.CopresenceClass\n",
    "\n",
    "    #X_train, X_test, y_train, y_test = train_test_split(X, y, test_size=0.2)\n",
    "    #logger.debug(\"X_train \", X_train.shape, \"X_test\", X_test.shape, \"y_train\", y_train.shape, \"y_test\", y_test.shape)\n",
    "\n",
    "    forest = RandomForestClassifier(n_estimators=10)\n",
    "\n",
    "    # print X.shape\n",
    "    print(modelTarget + \" random forest\")\n",
    "  # todo move to beginning with other imports\n",
    "\n",
    "    #n_estimators = np.concatenate((np.arange(1,10), np.arange(10,100,10)))\n",
    "\n",
    "    grid = GridSearchCV(estimator=forest, param_grid=param_grid,\n",
    "                        scoring=['f1_macro', 'precision_macro', 'recall_macro'],\n",
    "                        refit='precision_macro',\n",
    "                        cv=10,\n",
    "                        return_train_score=True,\n",
    "                        verbose=1)\n",
    "\n",
    "    grid = grid.fit(X, y)\n",
    "\n",
    "    results = grid.cv_results_\n",
    "    # print(\"best params \", grid.best_params_)\n",
    "    # print(\"best score \", grid.best_score_)\n",
    "\n",
    "    return grid"
   ]
  },
  {
   "cell_type": "markdown",
   "metadata": {},
   "source": [
    "# RandomForestClassifier\n",
    "## Subject + phases split (0.15, 0.70, 0.15)"
   ]
  },
  {
   "cell_type": "code",
   "execution_count": 115,
   "metadata": {},
   "outputs": [
    {
     "name": "stderr",
     "output_type": "stream",
     "text": [
      "c:\\python27\\lib\\site-packages\\ipykernel_launcher.py:43: FutureWarning: Method .as_matrix will be removed in a future version. Use .values instead.\n",
      "[Parallel(n_jobs=1)]: Using backend SequentialBackend with 1 concurrent workers.\n"
     ]
    },
    {
     "name": "stdout",
     "output_type": "stream",
     "text": [
      "presence random forest\n",
      "Fitting 10 folds for each of 21 candidates, totalling 210 fits\n"
     ]
    },
    {
     "name": "stderr",
     "output_type": "stream",
     "text": [
      "[Parallel(n_jobs=1)]: Done 210 out of 210 | elapsed:  1.2min finished\n",
      "c:\\python27\\lib\\site-packages\\sklearn\\model_selection\\_search.py:841: DeprecationWarning: The default of the `iid` parameter will change from True to False in version 0.22 and will be removed in 0.24. This will change numeric results when test-set sizes are unequal.\n",
      "  DeprecationWarning)\n"
     ]
    }
   ],
   "source": [
    "matrix = os.path.join(os.path.dirname(config.CORPUS_PATH), 'matrix-2019-0226_15-16-44Features-157015.xlsx')\n",
    "\n",
    "n_estimators = [10, 20, 30, 40, 50, 100, 1000]\n",
    "class_weights = [None, 'balanced', 'balanced_subsample']\n",
    "max_features = [None, 'auto', 'sqrt', 'log2']\n",
    "param_grid =  {\n",
    "    'n_estimators': n_estimators,\n",
    "    'class_weight': class_weights\n",
    "    #'max_features': [None, 'auto', 'sqrt', 'log2']\n",
    "}\n",
    "grid = randomForest_gridsearch(matrix, 'presence', param_grid=param_grid, features=subject_features, upsample=True)"
   ]
  },
  {
   "cell_type": "code",
   "execution_count": 116,
   "metadata": {},
   "outputs": [
    {
     "name": "stdout",
     "output_type": "stream",
     "text": [
      "Best 0.833183 for params {'n_estimators': 100, 'class_weight': None}\n"
     ]
    }
   ],
   "source": [
    "print(\"Best %f for params %s\" % (grid.best_score_, grid.best_params_))"
   ]
  },
  {
   "cell_type": "code",
   "execution_count": 117,
   "metadata": {},
   "outputs": [
    {
     "name": "stdout",
     "output_type": "stream",
     "text": [
      "    mean_test_precision_macro param_n_estimators  param_class_weight\n",
      "0                    0.752724                 10                None\n",
      "1                    0.756306                 20                None\n",
      "2                    0.787109                 30                None\n",
      "3                    0.743844                 40                None\n",
      "4                    0.785564                 50                None\n",
      "5                    0.833183                100                None\n",
      "6                    0.800751               1000                None\n",
      "7                    0.704955                 10            balanced\n",
      "8                    0.745946                 20            balanced\n",
      "9                    0.775526                 30            balanced\n",
      "10                   0.772673                 40            balanced\n",
      "11                   0.776298                 50            balanced\n",
      "12                   0.766688                100            balanced\n",
      "13                   0.773724               1000            balanced\n",
      "14                   0.787538                 10  balanced_subsample\n",
      "15                   0.725225                 20  balanced_subsample\n",
      "16                   0.740691                 30  balanced_subsample\n",
      "17                   0.750987                 40  balanced_subsample\n",
      "18                   0.747447                 50  balanced_subsample\n",
      "19                   0.784964                100  balanced_subsample\n",
      "20                   0.808559               1000  balanced_subsample\n",
      "          0         1         2         3         4         5         6\n",
      "0  0.752724  0.756306  0.787109  0.743844  0.785564  0.833183  0.800751\n",
      "1  0.704955  0.745946  0.775526  0.772673  0.776298  0.766688  0.773724\n",
      "2  0.787538  0.725225  0.740691  0.750987  0.747447  0.784964  0.808559\n"
     ]
    }
   ],
   "source": [
    "print(pd.DataFrame(data=grid.cv_results_)[['mean_test_precision_macro', 'param_n_estimators', 'param_class_weight']])\n",
    "scores = pd.DataFrame(data=grid.cv_results_['mean_test_precision_macro'].reshape(len(class_weights), len(n_estimators)))\n",
    "print(scores)"
   ]
  },
  {
   "cell_type": "code",
   "execution_count": 121,
   "metadata": {},
   "outputs": [
    {
     "data": {
      "image/png": "[encoded data removed]",
      "text/plain": [
       "<Figure size 576x432 with 2 Axes>"
      ]
     },
     "metadata": {
      "needs_background": "light"
     },
     "output_type": "display_data"
    }
   ],
   "source": [
    "from matplotlib.colors import Normalize\n",
    "\n",
    "class MidpointNormalize(Normalize):\n",
    "\n",
    "    def __init__(self, vmin=None, vmax=None, midpoint=None, clip=False):\n",
    "        self.midpoint = midpoint\n",
    "        Normalize.__init__(self, vmin, vmax, clip)\n",
    "\n",
    "    def __call__(self, value, clip=None):\n",
    "        x, y = [self.vmin, self.midpoint, self.vmax], [0, 0.5, 1]\n",
    "        return np.ma.masked_array(np.interp(value, x, y))\n",
    "\n",
    "## Plotting Function\n",
    "def plot_gscv(scores, param_1, param_2, label_1, label_2, label):\n",
    "    plt.figure(figsize=(8, 6))\n",
    "    plt.subplots_adjust(left=.2, right=0.95, bottom=0.15, top=0.95)\n",
    "    plt.imshow(scores, interpolation='nearest', cmap=plt.cm.hot,\n",
    "               norm=MidpointNormalize(vmin=0.2, midpoint=np.array(scores).mean()))\n",
    "    plt.xlabel(label_1)\n",
    "    plt.ylabel(label_2)\n",
    "    plt.colorbar()\n",
    "    plt.xticks(np.arange(len(param_1)), param_1, rotation=45)\n",
    "    plt.yticks(np.arange(len(param_2)), param_2)\n",
    "    plt.title(label)\n",
    "    plt.show()\n",
    "    \n",
    "plot_gscv(scores, n_estimators, class_weights, 'n_estimators', 'class_weight', 'Mean test precision')"
   ]
  },
  {
   "cell_type": "code",
   "execution_count": 113,
   "metadata": {},
   "outputs": [
    {
     "name": "stdout",
     "output_type": "stream",
     "text": [
      "0.8292453167453168\n"
     ]
    }
   ],
   "source": [
    "print(np.array(scores).mean())"
   ]
  },
  {
   "cell_type": "code",
   "execution_count": 124,
   "metadata": {},
   "outputs": [
    {
     "name": "stderr",
     "output_type": "stream",
     "text": [
      "c:\\python27\\lib\\site-packages\\ipykernel_launcher.py:43: FutureWarning: Method .as_matrix will be removed in a future version. Use .values instead.\n",
      "[Parallel(n_jobs=1)]: Using backend SequentialBackend with 1 concurrent workers.\n"
     ]
    },
    {
     "name": "stdout",
     "output_type": "stream",
     "text": [
      "presence random forest\n",
      "Fitting 10 folds for each of 28 candidates, totalling 280 fits\n",
      "Best test precision score for params {'max_features': 'log2', 'n_estimators': 100}\n",
      "<built-in function max>\n"
     ]
    },
    {
     "name": "stderr",
     "output_type": "stream",
     "text": [
      "[Parallel(n_jobs=1)]: Done 280 out of 280 | elapsed:  1.6min finished\n",
      "c:\\python27\\lib\\site-packages\\sklearn\\model_selection\\_search.py:841: DeprecationWarning: The default of the `iid` parameter will change from True to False in version 0.22 and will be removed in 0.24. This will change numeric results when test-set sizes are unequal.\n",
      "  DeprecationWarning)\n"
     ]
    },
    {
     "ename": "NameError",
     "evalue": "name 'some_value' is not defined",
     "output_type": "error",
     "traceback": [
      "\u001b[1;31m---------------------------------------------------------------------------\u001b[0m",
      "\u001b[1;31mNameError\u001b[0m                                 Traceback (most recent call last)",
      "\u001b[1;32m<ipython-input-124-36fd2bf226c1>\u001b[0m in \u001b[0;36m<module>\u001b[1;34m()\u001b[0m\n\u001b[0;32m      9\u001b[0m \u001b[0mbest_precision\u001b[0m \u001b[1;33m=\u001b[0m \u001b[0mdf\u001b[0m\u001b[1;33m.\u001b[0m\u001b[0mmean_test_precision_macro\u001b[0m\u001b[1;33m.\u001b[0m\u001b[0mmax\u001b[0m\u001b[1;33m(\u001b[0m\u001b[1;33m)\u001b[0m\u001b[1;33m\u001b[0m\u001b[0m\n\u001b[0;32m     10\u001b[0m \u001b[1;32mprint\u001b[0m\u001b[1;33m(\u001b[0m\u001b[0mmax\u001b[0m\u001b[1;33m)\u001b[0m\u001b[1;33m\u001b[0m\u001b[0m\n\u001b[1;32m---> 11\u001b[1;33m \u001b[0mdf\u001b[0m \u001b[1;33m=\u001b[0m \u001b[0mdf\u001b[0m\u001b[1;33m.\u001b[0m\u001b[0mloc\u001b[0m\u001b[1;33m[\u001b[0m\u001b[0mdf\u001b[0m\u001b[1;33m[\u001b[0m\u001b[1;34m'mean_test_precision_macro'\u001b[0m\u001b[1;33m]\u001b[0m \u001b[1;33m==\u001b[0m \u001b[0msome_value\u001b[0m\u001b[1;33m]\u001b[0m\u001b[1;33m\u001b[0m\u001b[0m\n\u001b[0m",
      "\u001b[1;31mNameError\u001b[0m: name 'some_value' is not defined"
     ]
    }
   ],
   "source": [
    "param_grid =  {\n",
    "    'n_estimators': n_estimators,\n",
    "    'max_features': max_features\n",
    "}\n",
    "grid = randomForest_gridsearch(matrix, 'presence', param_grid=param_grid, features=subject_features, upsample=True)\n",
    "print(\"Best test precision score for params %s\" % (grid.best_params_))\n",
    "\n",
    "\n"
   ]
  },
  {
   "cell_type": "code",
   "execution_count": 128,
   "metadata": {},
   "outputs": [
    {
     "name": "stdout",
     "output_type": "stream",
     "text": [
      "0.8355855855855856\n"
     ]
    },
    {
     "ename": "ValueError",
     "evalue": "The truth value of a Series is ambiguous. Use a.empty, a.bool(), a.item(), a.any() or a.all().",
     "output_type": "error",
     "traceback": [
      "\u001b[1;31m---------------------------------------------------------------------------\u001b[0m",
      "\u001b[1;31mValueError\u001b[0m                                Traceback (most recent call last)",
      "\u001b[1;32m<ipython-input-128-d378e5857df3>\u001b[0m in \u001b[0;36m<module>\u001b[1;34m()\u001b[0m\n\u001b[0;32m      4\u001b[0m \u001b[0mbest_recall\u001b[0m \u001b[1;33m=\u001b[0m \u001b[0mdf\u001b[0m\u001b[1;33m.\u001b[0m\u001b[0mmean_test_recall_macro\u001b[0m\u001b[1;33m.\u001b[0m\u001b[0mmax\u001b[0m\u001b[1;33m(\u001b[0m\u001b[1;33m)\u001b[0m\u001b[1;33m\u001b[0m\u001b[0m\n\u001b[0;32m      5\u001b[0m \u001b[1;32mprint\u001b[0m\u001b[1;33m(\u001b[0m\u001b[0mbest_precision\u001b[0m\u001b[1;33m)\u001b[0m\u001b[1;33m\u001b[0m\u001b[0m\n\u001b[1;32m----> 6\u001b[1;33m \u001b[0mdf_best\u001b[0m \u001b[1;33m=\u001b[0m \u001b[0mdf\u001b[0m\u001b[1;33m.\u001b[0m\u001b[0mloc\u001b[0m\u001b[1;33m[\u001b[0m\u001b[0many\u001b[0m\u001b[1;33m(\u001b[0m\u001b[1;33m(\u001b[0m\u001b[0mdf\u001b[0m\u001b[1;33m[\u001b[0m\u001b[1;34m'mean_test_precision_macro'\u001b[0m\u001b[1;33m]\u001b[0m \u001b[1;33m==\u001b[0m \u001b[0mbest_precision\u001b[0m\u001b[1;33m,\u001b[0m \u001b[0mdf\u001b[0m\u001b[1;33m[\u001b[0m\u001b[1;34m'mean_test_f1_macro'\u001b[0m\u001b[1;33m]\u001b[0m \u001b[1;33m==\u001b[0m \u001b[0mbest_f1\u001b[0m\u001b[1;33m)\u001b[0m\u001b[1;33m)\u001b[0m\u001b[1;33m]\u001b[0m\u001b[1;33m\u001b[0m\u001b[0m\n\u001b[0m\u001b[0;32m      7\u001b[0m \u001b[0mdf_best\u001b[0m\u001b[1;33m[\u001b[0m\u001b[1;33m[\u001b[0m\u001b[1;34m'params'\u001b[0m\u001b[1;33m,\u001b[0m \u001b[1;34m'mean_test_precision_macro'\u001b[0m\u001b[1;33m,\u001b[0m \u001b[1;34m'mean_test_f1_macro'\u001b[0m\u001b[1;33m,\u001b[0m \u001b[1;34m'mean_test_recall_macro'\u001b[0m\u001b[1;33m]\u001b[0m\u001b[1;33m]\u001b[0m\u001b[1;33m\u001b[0m\u001b[0m\n",
      "\u001b[1;32mc:\\python27\\lib\\site-packages\\pandas\\core\\generic.pyc\u001b[0m in \u001b[0;36m__nonzero__\u001b[1;34m(self)\u001b[0m\n\u001b[0;32m   1477\u001b[0m         raise ValueError(\"The truth value of a {0} is ambiguous. \"\n\u001b[0;32m   1478\u001b[0m                          \u001b[1;34m\"Use a.empty, a.bool(), a.item(), a.any() or a.all().\"\u001b[0m\u001b[1;33m\u001b[0m\u001b[0m\n\u001b[1;32m-> 1479\u001b[1;33m                          .format(self.__class__.__name__))\n\u001b[0m\u001b[0;32m   1480\u001b[0m \u001b[1;33m\u001b[0m\u001b[0m\n\u001b[0;32m   1481\u001b[0m     \u001b[0m__bool__\u001b[0m \u001b[1;33m=\u001b[0m \u001b[0m__nonzero__\u001b[0m\u001b[1;33m\u001b[0m\u001b[0m\n",
      "\u001b[1;31mValueError\u001b[0m: The truth value of a Series is ambiguous. Use a.empty, a.bool(), a.item(), a.any() or a.all()."
     ]
    }
   ],
   "source": [
    "df = pd.DataFrame(grid.cv_results_)\n",
    "best_precision = df.mean_test_precision_macro.max()\n",
    "best_f1 = df.mean_test_f1_macro.max()\n",
    "best_recall = df.mean_test_recall_macro.max()\n",
    "print(best_precision)\n",
    "df_best = df.loc[df['mean_test_precision_macro'] == best_precision]\n",
    "df_best[['params', 'mean_test_precision_macro', 'mean_test_f1_macro', 'mean_test_recall_macro']]"
   ]
  },
  {
   "cell_type": "markdown",
   "metadata": {},
   "source": [
    "## Agent + phases split(0.15, 0.70, 0.15)"
   ]
  },
  {
   "cell_type": "code",
   "execution_count": null,
   "metadata": {},
   "outputs": [],
   "source": []
  },
  {
   "cell_type": "markdown",
   "metadata": {},
   "source": [
    "## Subject + no phase split"
   ]
  },
  {
   "cell_type": "code",
   "execution_count": null,
   "metadata": {},
   "outputs": [],
   "source": []
  },
  {
   "cell_type": "markdown",
   "metadata": {},
   "source": [
    "## Agent + no phase split"
   ]
  },
  {
   "cell_type": "code",
   "execution_count": null,
   "metadata": {},
   "outputs": [],
   "source": []
  },
  {
   "cell_type": "markdown",
   "metadata": {},
   "source": [
    "## Subject + Agent + phases split (0.15, 0.70, 0.15)"
   ]
  },
  {
   "cell_type": "code",
   "execution_count": null,
   "metadata": {},
   "outputs": [],
   "source": []
  },
  {
   "cell_type": "markdown",
   "metadata": {},
   "source": [
    "## Subject + Agent + no phase split"
   ]
  },
  {
   "cell_type": "code",
   "execution_count": null,
   "metadata": {},
   "outputs": [],
   "source": []
  }
 ],
 "metadata": {
  "kernelspec": {
   "display_name": "Python 2",
   "language": "python",
   "name": "python2"
  },
  "language_info": {
   "codemirror_mode": {
    "name": "ipython",
    "version": 2
   },
   "file_extension": ".py",
   "mimetype": "text/x-python",
   "name": "python",
   "nbconvert_exporter": "python",
   "pygments_lexer": "ipython2",
   "version": "2.7.15"
  }
 },
 "nbformat": 4,
 "nbformat_minor": 2
}

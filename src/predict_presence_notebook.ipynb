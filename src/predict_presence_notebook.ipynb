{
 "cells": [
  {
   "cell_type": "code",
   "execution_count": 48,
   "metadata": {},
   "outputs": [],
   "source": [
    "import sys\n",
    "del sys.modules['config']\n",
    "del sys.modules['entropy']\n",
    "del sys.modules['featureExtraction']\n",
    "del sys.modules['pos']"
   ]
  },
  {
   "cell_type": "code",
   "execution_count": 49,
   "metadata": {},
   "outputs": [],
   "source": [
    "# imports\n",
    "import sys\n",
    "import os\n",
    "\n",
    "import config\n",
    "from entropy import videoEntropyMatrix\n",
    "\n",
    "import featureExtraction as fe"
   ]
  },
  {
   "cell_type": "code",
   "execution_count": 50,
   "metadata": {
    "scrolled": true
   },
   "outputs": [
    {
     "name": "stdout",
     "output_type": "stream",
     "text": [
      "Phases ratios: [0.15, 0.7, 0.15]\n",
      "('DEBUG ', 'python C:\\\\IAAA\\\\TER\\\\data\\\\CorpusHMPassation\\\\tools\\\\sppas_afterClosedCap.py C:\\\\IAAA\\\\TER\\\\data\\\\CorpusHMPassation\\\\E10D\\\\Casque\\\\data\\\\asr-trans\\\\E10D-01-Casque-micro.E1-5.xra -D C:\\\\IAAA\\\\TER\\\\resources\\\\tools\\\\SPPAS-1.8.6 -V 1.8.6')\n",
      "Use argument SPPAS directory:C:\\IAAA\\TER\\resources\\tools\\SPPAS-1.8.6\n",
      "[C:\\IAAA\\TER\\data\\CorpusHMPassation\\E10D\\Casque\\data\\asr-trans\\E10D-01-Casque-micro.E1-5.xra] Loading annotation file...\n",
      "[C:\\IAAA\\TER\\data\\CorpusHMPassation\\E10D\\Casque\\data\\asr-trans\\E10D-01-Casque-micro.E1-5.xra] Copy 'ASR-Transcription' to 'ASR-Revised'\n",
      "[C:\\IAAA\\TER\\data\\CorpusHMPassation\\E10D\\Casque\\data\\asr-trans\\E10D-01-Casque-micro.E1-5.xra] cleanup tier 'ASR-Revised' => 8 changed label(s)\n",
      "[C:\\IAAA\\TER\\data\\CorpusHMPassation\\E10D\\Casque\\data\\asr-trans\\E10D-01-Casque-micro.E1-5.xra] /!\\ Destination file 'C:\\IAAA\\TER\\data\\CorpusHMPassation\\E10D\\Casque\\data\\asr-trans\\E10D-01-Casque-micro.E1-5.eaf' yet exist, not overwritten\n",
      "[C:\\IAAA\\TER\\data\\CorpusHMPassation\\E10D\\Casque\\data\\asr-trans\\E10D-01-Casque-micro.E1-5.xra] /!\\ Destination file 'C:\\IAAA\\TER\\data\\CorpusHMPassation\\E10D\\Casque\\data\\asr-trans\\E10D-01-Casque-micro.E1-5.TextGrid' yet exist, not overwritten\n",
      "\n",
      "('DEBUG ', 'python C:\\\\IAAA\\\\TER\\\\resources\\\\tools\\\\SPPAS-1.8.6\\\\sppas\\\\bin\\\\tokenize.py -r C:\\\\IAAA\\\\TER\\\\resources\\\\tools\\\\SPPAS-1.8.6\\\\resources\\\\vocab\\\\fra.vocab -i C:\\\\IAAA\\\\TER\\\\data\\\\CorpusHMPassation\\\\E10D\\\\Casque\\\\data\\\\asr-trans\\\\E10D-01-Casque-micro.E1-5.eaf -o C:\\\\IAAA\\\\TER\\\\data\\\\CorpusHMPassation\\\\E10D\\\\Casque\\\\data\\\\E10D-01-Casque-micro-token.eaf')\n",
      "\n",
      "('DEBUG ', 'python C:\\\\IAAA\\\\TER\\\\resources\\\\tools\\\\SPPAS-1.8.6\\\\sppas\\\\bin\\\\phonetize.py -r C:\\\\IAAA\\\\TER\\\\resources\\\\tools\\\\SPPAS-1.8.6\\\\resources\\\\dict\\\\fra.dict -i C:\\\\IAAA\\\\TER\\\\data\\\\CorpusHMPassation\\\\E10D\\\\Casque\\\\data\\\\E10D-01-Casque-micro-token.eaf -o C:\\\\IAAA\\\\TER\\\\data\\\\CorpusHMPassation\\\\E10D\\\\Casque\\\\data\\\\E10D-01-Casque-micro-phon.eaf')\n",
      "\n",
      "('DEBUG ', 'python C:\\\\IAAA\\\\TER\\\\resources\\\\tools\\\\SPPAS-1.8.6\\\\sppas\\\\bin\\\\alignment.py -w C:\\\\IAAA\\\\TER\\\\data\\\\CorpusHMPassation\\\\E10D\\\\Casque\\\\data\\\\E10D-01-Casque-micro.wav -i C:\\\\IAAA\\\\TER\\\\data\\\\CorpusHMPassation\\\\E10D\\\\Casque\\\\data\\\\E10D-01-Casque-micro-phon.eaf -I C:\\\\IAAA\\\\TER\\\\data\\\\CorpusHMPassation\\\\E10D\\\\Casque\\\\data\\\\E10D-01-Casque-micro-token.eaf -o C:\\\\IAAA\\\\TER\\\\data\\\\CorpusHMPassation\\\\E10D\\\\Casque\\\\data\\\\E10D-01-Casque-micro-palign.eaf -r C:\\\\IAAA\\\\TER\\\\resources\\\\tools\\\\SPPAS-1.8.6\\\\resources\\\\models\\\\models-fra')\n",
      "\n",
      "('DEBUG ', 'C:\\\\IAAA\\\\TER\\\\resources\\\\tools\\\\MarsaTag\\\\MarsaTag-UI.bat -cli -pt TokensAlign -oral -P -p lpl-oral-no-punct -r elan-lite -w elan-lite -in-ext .eaf --out-ext -marsatag.eaf C:\\\\IAAA\\\\TER\\\\data\\\\CorpusHMPassation\\\\E10D\\\\Casque\\\\data\\\\E10D-01-Casque-micro-palign.eaf')\n",
      "\n",
      "(sppas) C:\\IAAA\\TER\\dev\\src>rem MarsaTag/Ortolang instalation path \n",
      "\n",
      "(sppas) C:\\IAAA\\TER\\dev\\src>set ORTOLANG_HOME=C:\\IAAA\\TER\\resources\\tools\\MarsaTag \n",
      "\n",
      "(sppas) C:\\IAAA\\TER\\dev\\src>rem JVM command \n",
      "\n",
      "(sppas) C:\\IAAA\\TER\\dev\\src>set JAVA=java \n",
      "\n",
      "(sppas) C:\\IAAA\\TER\\dev\\src>rem JVM options \n",
      "\n",
      "(sppas) C:\\IAAA\\TER\\dev\\src>rem Use this to define min/max memory \n",
      "\n",
      "(sppas) C:\\IAAA\\TER\\dev\\src>set JAVA_OPTS=-Xms300M -Xmx580M \n",
      "\n",
      "(sppas) C:\\IAAA\\TER\\dev\\src>rem The Jar file \n",
      "\n",
      "(sppas) C:\\IAAA\\TER\\dev\\src>set JAR=C:\\IAAA\\TER\\resources\\tools\\MarsaTag\\lib\\MarsaTag-UI.jar \n",
      "\n",
      "(sppas) C:\\IAAA\\TER\\dev\\src>set ORTO_OPT=-Dortolang.home=C:\\IAAA\\TER\\resources\\tools\\MarsaTag \n",
      "\n",
      "(sppas) C:\\IAAA\\TER\\dev\\src>java -Xms300M -Xmx580M \"-Dortolang.home=C:\\IAAA\\TER\\resources\\tools\\MarsaTag\" -jar \"C:\\IAAA\\TER\\resources\\tools\\MarsaTag\\lib\\MarsaTag-UI.jar\" -g -cli -pt TokensAlign -oral -P -p lpl-oral -r elan-lite -w elan-lite -in-ext .eaf --out-ext -marsatag.eaf C:\\IAAA\\TER\\data\\CorpusHMPassation\\E10D\\Casque\\data\\E10D-01-Casque-micro-palign.eaf \n",
      "\n",
      "s1 :  41.775\n",
      "s2 :  236.725\n"
     ]
    },
    {
     "ename": "AttributeError",
     "evalue": "'NoneType' object has no attribute 'find'",
     "output_type": "error",
     "traceback": [
      "\u001b[1;31m---------------------------------------------------------------------------\u001b[0m",
      "\u001b[1;31mAttributeError\u001b[0m                            Traceback (most recent call last)",
      "\u001b[1;32m<ipython-input-50-094dff30fc03>\u001b[0m in \u001b[0;36m<module>\u001b[1;34m()\u001b[0m\n\u001b[1;32m----> 1\u001b[1;33m \u001b[0mfe\u001b[0m\u001b[1;33m.\u001b[0m\u001b[0mmain\u001b[0m\u001b[1;33m(\u001b[0m\u001b[1;34m\"--splits [0.15, 0.70, 0.15]\"\u001b[0m\u001b[1;33m)\u001b[0m\u001b[1;33m\u001b[0m\u001b[0m\n\u001b[0m",
      "\u001b[1;32mC:\\IAAA\\TER\\dev\\src\\featureExtraction.pyc\u001b[0m in \u001b[0;36mmain\u001b[1;34m(argv)\u001b[0m\n\u001b[0;32m    629\u001b[0m \u001b[1;33m\u001b[0m\u001b[0m\n\u001b[0;32m    630\u001b[0m \u001b[1;33m\u001b[0m\u001b[0m\n\u001b[1;32m--> 631\u001b[1;33m     \u001b[0mcomputeFeatures\u001b[0m\u001b[1;33m(\u001b[0m\u001b[0mpathsList\u001b[0m\u001b[1;33m,\u001b[0m \u001b[0msplitratios\u001b[0m\u001b[1;33m)\u001b[0m\u001b[1;33m\u001b[0m\u001b[0m\n\u001b[0m\u001b[0;32m    632\u001b[0m     \u001b[0mprepareMatrix\u001b[0m\u001b[1;33m(\u001b[0m\u001b[1;33m)\u001b[0m\u001b[1;33m\u001b[0m\u001b[0m\n\u001b[0;32m    633\u001b[0m \u001b[1;33m\u001b[0m\u001b[0m\n",
      "\u001b[1;32mC:\\IAAA\\TER\\dev\\src\\featureExtraction.pyc\u001b[0m in \u001b[0;36mcomputeFeatures\u001b[1;34m(pathsList, splitratios)\u001b[0m\n\u001b[0;32m    610\u001b[0m \u001b[1;32mdef\u001b[0m \u001b[0mcomputeFeatures\u001b[0m\u001b[1;33m(\u001b[0m\u001b[0mpathsList\u001b[0m\u001b[1;33m,\u001b[0m \u001b[0msplitratios\u001b[0m\u001b[1;33m)\u001b[0m\u001b[1;33m:\u001b[0m\u001b[1;33m\u001b[0m\u001b[0m\n\u001b[0;32m    611\u001b[0m     \u001b[1;31m#Function to call all functions to compute features\u001b[0m\u001b[1;33m\u001b[0m\u001b[1;33m\u001b[0m\u001b[0m\n\u001b[1;32m--> 612\u001b[1;33m     \u001b[0mcomputePOStags\u001b[0m\u001b[1;33m(\u001b[0m\u001b[0mpathsList\u001b[0m\u001b[1;33m,\u001b[0m \u001b[0msplitratios\u001b[0m\u001b[1;33m)\u001b[0m\u001b[1;33m\u001b[0m\u001b[0m\n\u001b[0m\u001b[0;32m    613\u001b[0m     \u001b[0mcomputeSentenceLengths\u001b[0m\u001b[1;33m(\u001b[0m\u001b[0mpathsList\u001b[0m\u001b[1;33m,\u001b[0m \u001b[0msplitratios\u001b[0m\u001b[1;33m)\u001b[0m\u001b[1;33m\u001b[0m\u001b[0m\n\u001b[0;32m    614\u001b[0m     \u001b[0mcomputeEntropies\u001b[0m\u001b[1;33m(\u001b[0m\u001b[0mpathsList\u001b[0m\u001b[1;33m,\u001b[0m \u001b[0msplitratios\u001b[0m\u001b[1;33m)\u001b[0m\u001b[1;33m\u001b[0m\u001b[0m\n",
      "\u001b[1;32mC:\\IAAA\\TER\\dev\\src\\featureExtraction.pyc\u001b[0m in \u001b[0;36mcomputePOStags\u001b[1;34m(pathsList, splitratios)\u001b[0m\n\u001b[0;32m     74\u001b[0m                     \u001b[1;32mif\u001b[0m\u001b[1;33m(\u001b[0m\u001b[0mextWav\u001b[0m \u001b[1;33m==\u001b[0m \u001b[1;34m\".wav\"\u001b[0m\u001b[1;33m)\u001b[0m\u001b[1;33m:\u001b[0m\u001b[1;33m\u001b[0m\u001b[0m\n\u001b[0;32m     75\u001b[0m                         \u001b[1;31m#print path, wavPath\u001b[0m\u001b[1;33m\u001b[0m\u001b[1;33m\u001b[0m\u001b[0m\n\u001b[1;32m---> 76\u001b[1;33m                         \u001b[0mPOSfreqArr\u001b[0m \u001b[1;33m=\u001b[0m \u001b[0mPOSfeatures\u001b[0m\u001b[1;33m(\u001b[0m\u001b[0mpath\u001b[0m\u001b[1;33m,\u001b[0m \u001b[0mwavPath\u001b[0m\u001b[1;33m,\u001b[0m \u001b[0msplitratios\u001b[0m\u001b[1;33m,\u001b[0m \u001b[0mconfig\u001b[0m\u001b[1;33m.\u001b[0m\u001b[0mSPPAS_PATH\u001b[0m\u001b[1;33m,\u001b[0m \u001b[1;34m\"1.8.6\"\u001b[0m\u001b[1;33m)\u001b[0m\u001b[1;33m\u001b[0m\u001b[0m\n\u001b[0m\u001b[0;32m     77\u001b[0m \u001b[1;33m\u001b[0m\u001b[0m\n\u001b[0;32m     78\u001b[0m                         \u001b[0menvType\u001b[0m \u001b[1;33m=\u001b[0m \u001b[0mos\u001b[0m\u001b[1;33m.\u001b[0m\u001b[0mpath\u001b[0m\u001b[1;33m.\u001b[0m\u001b[0mbasename\u001b[0m\u001b[1;33m(\u001b[0m\u001b[0mos\u001b[0m\u001b[1;33m.\u001b[0m\u001b[0mpath\u001b[0m\u001b[1;33m.\u001b[0m\u001b[0mnormpath\u001b[0m\u001b[1;33m(\u001b[0m\u001b[0mos\u001b[0m\u001b[1;33m.\u001b[0m\u001b[0mpath\u001b[0m\u001b[1;33m.\u001b[0m\u001b[0mdirname\u001b[0m\u001b[1;33m(\u001b[0m\u001b[0mos\u001b[0m\u001b[1;33m.\u001b[0m\u001b[0mpath\u001b[0m\u001b[1;33m.\u001b[0m\u001b[0mdirname\u001b[0m\u001b[1;33m(\u001b[0m\u001b[0mos\u001b[0m\u001b[1;33m.\u001b[0m\u001b[0mpath\u001b[0m\u001b[1;33m.\u001b[0m\u001b[0mdirname\u001b[0m\u001b[1;33m(\u001b[0m\u001b[0mpath\u001b[0m\u001b[1;33m)\u001b[0m\u001b[1;33m)\u001b[0m\u001b[1;33m)\u001b[0m\u001b[1;33m)\u001b[0m\u001b[1;33m)\u001b[0m\u001b[1;33m\u001b[0m\u001b[0m\n",
      "\u001b[1;32mC:\\IAAA\\TER\\dev\\src\\pos.py\u001b[0m in \u001b[0;36mPOSfeatures\u001b[1;34m(transcriptionFile, wavFile, splitUp, sppaspath, sppasver)\u001b[0m\n\u001b[0;32m    209\u001b[0m \u001b[1;33m\u001b[0m\u001b[0m\n\u001b[0;32m    210\u001b[0m         \u001b[0mposFile\u001b[0m \u001b[1;33m=\u001b[0m \u001b[0mPOStaggedFile\u001b[0m\u001b[1;33m(\u001b[0m\u001b[0malignmentFile\u001b[0m\u001b[1;33m(\u001b[0m\u001b[0mtranscriptionFile\u001b[0m\u001b[1;33m,\u001b[0m \u001b[0mwavFile\u001b[0m\u001b[1;33m,\u001b[0m \u001b[0msppaspath\u001b[0m\u001b[1;33m,\u001b[0m \u001b[0msppasver\u001b[0m\u001b[1;33m)\u001b[0m\u001b[1;33m)\u001b[0m\u001b[1;33m\u001b[0m\u001b[0m\n\u001b[1;32m--> 211\u001b[1;33m         \u001b[0mPOSdict\u001b[0m \u001b[1;33m=\u001b[0m \u001b[0mPOSfreq\u001b[0m\u001b[1;33m(\u001b[0m\u001b[0mposFile\u001b[0m\u001b[1;33m,\u001b[0m \u001b[0mwavFile\u001b[0m\u001b[1;33m,\u001b[0m \u001b[0msplitUp\u001b[0m\u001b[1;33m)\u001b[0m\u001b[1;33m\u001b[0m\u001b[0m\n\u001b[0m\u001b[0;32m    212\u001b[0m         \u001b[0mfeatures\u001b[0m \u001b[1;33m=\u001b[0m \u001b[0mnp\u001b[0m\u001b[1;33m.\u001b[0m\u001b[0mzeros\u001b[0m\u001b[1;33m(\u001b[0m\u001b[1;33m(\u001b[0m\u001b[1;36m9\u001b[0m\u001b[1;33m,\u001b[0m \u001b[1;36m3\u001b[0m\u001b[1;33m)\u001b[0m\u001b[1;33m)\u001b[0m\u001b[1;33m\u001b[0m\u001b[0m\n\u001b[0;32m    213\u001b[0m \u001b[1;33m\u001b[0m\u001b[0m\n",
      "\u001b[1;32mC:\\IAAA\\TER\\dev\\src\\pos.py\u001b[0m in \u001b[0;36mPOSfreq\u001b[1;34m(taggedTransFile, wavFile, splitUp)\u001b[0m\n\u001b[0;32m    170\u001b[0m         \u001b[1;32mprint\u001b[0m \u001b[1;34m\"s2 : \"\u001b[0m\u001b[1;33m,\u001b[0m \u001b[0msplitPoint_2\u001b[0m\u001b[1;33m\u001b[0m\u001b[0m\n\u001b[0;32m    171\u001b[0m \u001b[1;33m\u001b[0m\u001b[0m\n\u001b[1;32m--> 172\u001b[1;33m         \u001b[0mtrs\u001b[0m \u001b[1;33m=\u001b[0m \u001b[0mannotationdata\u001b[0m\u001b[1;33m.\u001b[0m\u001b[0maio\u001b[0m\u001b[1;33m.\u001b[0m\u001b[0mread\u001b[0m\u001b[1;33m(\u001b[0m\u001b[0mtaggedTransFile\u001b[0m\u001b[1;33m)\u001b[0m\u001b[1;33m\u001b[0m\u001b[0m\n\u001b[0m\u001b[0;32m    173\u001b[0m \u001b[1;33m\u001b[0m\u001b[0m\n\u001b[0;32m    174\u001b[0m         \u001b[1;32mfor\u001b[0m \u001b[0mtier\u001b[0m \u001b[1;32min\u001b[0m \u001b[0mtrs\u001b[0m\u001b[1;33m:\u001b[0m\u001b[1;33m\u001b[0m\u001b[0m\n",
      "\u001b[1;32mC:\\IAAA\\TER\\resources\\tools\\SPPAS-1.8.6\\sppas\\src\\annotationdata\\aio\\__init__.pyc\u001b[0m in \u001b[0;36mread\u001b[1;34m(filename)\u001b[0m\n\u001b[0;32m    134\u001b[0m \u001b[1;33m\u001b[0m\u001b[0m\n\u001b[0;32m    135\u001b[0m     \u001b[1;32mtry\u001b[0m\u001b[1;33m:\u001b[0m\u001b[1;33m\u001b[0m\u001b[0m\n\u001b[1;32m--> 136\u001b[1;33m         \u001b[0mtranscription\u001b[0m\u001b[1;33m.\u001b[0m\u001b[0mread\u001b[0m\u001b[1;33m(\u001b[0m \u001b[0municode\u001b[0m\u001b[1;33m(\u001b[0m\u001b[0mfilename\u001b[0m\u001b[1;33m)\u001b[0m \u001b[1;33m)\u001b[0m\u001b[1;33m\u001b[0m\u001b[0m\n\u001b[0m\u001b[0;32m    137\u001b[0m     \u001b[1;32mexcept\u001b[0m \u001b[0mIOError\u001b[0m\u001b[1;33m:\u001b[0m\u001b[1;33m\u001b[0m\u001b[0m\n\u001b[0;32m    138\u001b[0m         \u001b[1;32mraise\u001b[0m\u001b[1;33m\u001b[0m\u001b[0m\n",
      "\u001b[1;32mC:\\IAAA\\TER\\resources\\tools\\SPPAS-1.8.6\\sppas\\src\\annotationdata\\aio\\elan.pyc\u001b[0m in \u001b[0;36mread\u001b[1;34m(self, filename)\u001b[0m\n\u001b[0;32m    121\u001b[0m         \u001b[0mself\u001b[0m\u001b[1;33m.\u001b[0m\u001b[0mhierarchyLinks\u001b[0m \u001b[1;33m=\u001b[0m \u001b[1;33m{\u001b[0m\u001b[1;33m}\u001b[0m\u001b[1;33m\u001b[0m\u001b[0m\n\u001b[0;32m    122\u001b[0m         \u001b[1;32mfor\u001b[0m \u001b[0mtierRoot\u001b[0m \u001b[1;32min\u001b[0m \u001b[0mroot\u001b[0m\u001b[1;33m.\u001b[0m\u001b[0mfindall\u001b[0m\u001b[1;33m(\u001b[0m\u001b[1;34m'TIER'\u001b[0m\u001b[1;33m)\u001b[0m\u001b[1;33m:\u001b[0m\u001b[1;33m\u001b[0m\u001b[0m\n\u001b[1;32m--> 123\u001b[1;33m             \u001b[0mself\u001b[0m\u001b[1;33m.\u001b[0m\u001b[0m__read_tier\u001b[0m\u001b[1;33m(\u001b[0m\u001b[0mtierRoot\u001b[0m\u001b[1;33m,\u001b[0m \u001b[0mroot\u001b[0m\u001b[1;33m)\u001b[0m\u001b[1;33m\u001b[0m\u001b[0m\n\u001b[0m\u001b[0;32m    124\u001b[0m \u001b[1;33m\u001b[0m\u001b[0m\n\u001b[0;32m    125\u001b[0m         \u001b[1;31m# Read tier properties (including controlled vocabularies)\u001b[0m\u001b[1;33m\u001b[0m\u001b[1;33m\u001b[0m\u001b[0m\n",
      "\u001b[1;32mC:\\IAAA\\TER\\resources\\tools\\SPPAS-1.8.6\\sppas\\src\\annotationdata\\aio\\elan.pyc\u001b[0m in \u001b[0;36m__read_tier\u001b[1;34m(self, tierRoot, root)\u001b[0m\n\u001b[0;32m    210\u001b[0m \u001b[1;33m\u001b[0m\u001b[0m\n\u001b[0;32m    211\u001b[0m         \u001b[1;32melse\u001b[0m\u001b[1;33m:\u001b[0m\u001b[1;33m\u001b[0m\u001b[0m\n\u001b[1;32m--> 212\u001b[1;33m             \u001b[0mself\u001b[0m\u001b[1;33m.\u001b[0m\u001b[0m__read_alignable_tier\u001b[0m\u001b[1;33m(\u001b[0m\u001b[0mtier\u001b[0m\u001b[1;33m,\u001b[0m \u001b[0mtierRoot\u001b[0m\u001b[1;33m)\u001b[0m\u001b[1;33m\u001b[0m\u001b[0m\n\u001b[0m\u001b[0;32m    213\u001b[0m \u001b[1;33m\u001b[0m\u001b[0m\n\u001b[0;32m    214\u001b[0m     \u001b[1;31m# -----------------------------------------------------------------\u001b[0m\u001b[1;33m\u001b[0m\u001b[1;33m\u001b[0m\u001b[0m\n",
      "\u001b[1;32mC:\\IAAA\\TER\\resources\\tools\\SPPAS-1.8.6\\sppas\\src\\annotationdata\\aio\\elan.pyc\u001b[0m in \u001b[0;36m__read_alignable_tier\u001b[1;34m(self, tier, tierRoot)\u001b[0m\n\u001b[0;32m    326\u001b[0m     \u001b[1;32mdef\u001b[0m \u001b[0m__read_alignable_tier\u001b[0m\u001b[1;33m(\u001b[0m\u001b[0mself\u001b[0m\u001b[1;33m,\u001b[0m \u001b[0mtier\u001b[0m\u001b[1;33m,\u001b[0m \u001b[0mtierRoot\u001b[0m\u001b[1;33m)\u001b[0m\u001b[1;33m:\u001b[0m\u001b[1;33m\u001b[0m\u001b[0m\n\u001b[0;32m    327\u001b[0m         \u001b[1;32mfor\u001b[0m \u001b[0mannotationRoot\u001b[0m \u001b[1;32min\u001b[0m \u001b[0mtierRoot\u001b[0m\u001b[1;33m.\u001b[0m\u001b[0mfindall\u001b[0m\u001b[1;33m(\u001b[0m\u001b[1;34m'ANNOTATION'\u001b[0m\u001b[1;33m)\u001b[0m\u001b[1;33m:\u001b[0m\u001b[1;33m\u001b[0m\u001b[0m\n\u001b[1;32m--> 328\u001b[1;33m             \u001b[0mnew_a\u001b[0m \u001b[1;33m=\u001b[0m \u001b[0mself\u001b[0m\u001b[1;33m.\u001b[0m\u001b[0m__parse_alignable_annotation\u001b[0m\u001b[1;33m(\u001b[0m\u001b[0mannotationRoot\u001b[0m\u001b[1;33m.\u001b[0m\u001b[0mfind\u001b[0m\u001b[1;33m(\u001b[0m\u001b[1;34m'ALIGNABLE_ANNOTATION'\u001b[0m\u001b[1;33m)\u001b[0m\u001b[1;33m)\u001b[0m\u001b[1;33m\u001b[0m\u001b[0m\n\u001b[0m\u001b[0;32m    329\u001b[0m             \u001b[0mtier\u001b[0m\u001b[1;33m.\u001b[0m\u001b[0mAdd\u001b[0m\u001b[1;33m(\u001b[0m \u001b[0mnew_a\u001b[0m \u001b[1;33m)\u001b[0m\u001b[1;33m\u001b[0m\u001b[0m\n\u001b[0;32m    330\u001b[0m \u001b[1;33m\u001b[0m\u001b[0m\n",
      "\u001b[1;32mC:\\IAAA\\TER\\resources\\tools\\SPPAS-1.8.6\\sppas\\src\\annotationdata\\aio\\elan.pyc\u001b[0m in \u001b[0;36m__parse_alignable_annotation\u001b[1;34m(self, alignableAnnotationRoot)\u001b[0m\n\u001b[0;32m    332\u001b[0m \u001b[1;33m\u001b[0m\u001b[0m\n\u001b[0;32m    333\u001b[0m     \u001b[1;32mdef\u001b[0m \u001b[0m__parse_alignable_annotation\u001b[0m\u001b[1;33m(\u001b[0m\u001b[0mself\u001b[0m\u001b[1;33m,\u001b[0m \u001b[0malignableAnnotationRoot\u001b[0m\u001b[1;33m)\u001b[0m\u001b[1;33m:\u001b[0m\u001b[1;33m\u001b[0m\u001b[0m\n\u001b[1;32m--> 334\u001b[1;33m         \u001b[0mlabel\u001b[0m \u001b[1;33m=\u001b[0m \u001b[0malignableAnnotationRoot\u001b[0m\u001b[1;33m.\u001b[0m\u001b[0mfind\u001b[0m\u001b[1;33m(\u001b[0m\u001b[1;34m'ANNOTATION_VALUE'\u001b[0m\u001b[1;33m)\u001b[0m\u001b[1;33m.\u001b[0m\u001b[0mtext\u001b[0m\u001b[1;33m\u001b[0m\u001b[0m\n\u001b[0m\u001b[0;32m    335\u001b[0m \u001b[1;33m\u001b[0m\u001b[0m\n\u001b[0;32m    336\u001b[0m         \u001b[0mbeginKey\u001b[0m \u001b[1;33m=\u001b[0m \u001b[0malignableAnnotationRoot\u001b[0m\u001b[1;33m.\u001b[0m\u001b[0mattrib\u001b[0m\u001b[1;33m[\u001b[0m\u001b[1;34m'TIME_SLOT_REF1'\u001b[0m\u001b[1;33m]\u001b[0m\u001b[1;33m\u001b[0m\u001b[0m\n",
      "\u001b[1;31mAttributeError\u001b[0m: 'NoneType' object has no attribute 'find'"
     ]
    }
   ],
   "source": [
    "fe.main(\"--splits [0.15, 0.70, 0.15]\")"
   ]
  },
  {
   "cell_type": "code",
   "execution_count": 7,
   "metadata": {},
   "outputs": [
    {
     "name": "stdout",
     "output_type": "stream",
     "text": [
      "C:\\IAAA\\TER\\data\\ACORFORMED\\Data\\E2C\\Casque\\Unity\\E2B-Casque-Unity-out_record_DATE17-4-21_11-36-34.txt\n",
      "[ 0.05118677  0.0554765   0.08040169  2.32266021  1.8760701   1.76955979\n",
      "  2.22080822  2.04534562  2.13997821  0.79974848  1.80746816  0.79989779\n",
      "  2.47765292  2.26767884  2.27720406]\n",
      "(15L,)\n"
     ]
    },
    {
     "data": {
      "text/plain": [
       "array([ 0.05118677,  0.0554765 ,  0.08040169,  2.32266021,  1.8760701 ,\n",
       "        1.76955979,  2.22080822,  2.04534562,  2.13997821,  0.79974848,\n",
       "        1.80746816,  0.79989779,  2.47765292,  2.26767884,  2.27720406])"
      ]
     },
     "execution_count": 7,
     "metadata": {},
     "output_type": "execute_result"
    }
   ],
   "source": [
    "# Sample compute entropy - no phase\n",
    "recordFile = os.path.join(config.CORPUS_PATH, 'E2C', 'Casque', 'Unity', 'E2B-Casque-Unity-out_record_DATE17-4-21_11-36-34.txt')\n",
    "print(recordFile)\n",
    "videoEntropyMatrix(recordFile, [0.00, 1.00, 0.00])"
   ]
  },
  {
   "cell_type": "code",
   "execution_count": null,
   "metadata": {},
   "outputs": [],
   "source": []
  },
  {
   "cell_type": "code",
   "execution_count": null,
   "metadata": {},
   "outputs": [],
   "source": []
  }
 ],
 "metadata": {
  "kernelspec": {
   "display_name": "Python 2",
   "language": "python",
   "name": "python2"
  }
 },
 "nbformat": 4,
 "nbformat_minor": 2
}
